{
  "nbformat": 4,
  "nbformat_minor": 0,
  "metadata": {
    "colab": {
      "private_outputs": true,
      "provenance": []
    },
    "kernelspec": {
      "name": "python3",
      "display_name": "Python 3"
    },
    "language_info": {
      "name": "python"
    }
  },
  "cells": [
    {
      "cell_type": "code",
      "execution_count": null,
      "metadata": {
        "id": "DlZFUU17RIeK"
      },
      "outputs": [],
      "source": [
        "from scipy import stats"
      ]
    },
    {
      "cell_type": "code",
      "source": [
        "x = [151,174,138,186,128,136,174,163,152,131,171]"
      ],
      "metadata": {
        "id": "DM0USZKZRNC3"
      },
      "execution_count": null,
      "outputs": []
    },
    {
      "cell_type": "code",
      "source": [
        "y = [63,81,56,91,47,57,76,72,82,48,51]"
      ],
      "metadata": {
        "id": "BUORbx2iRZ_o"
      },
      "execution_count": null,
      "outputs": []
    },
    {
      "cell_type": "code",
      "source": [
        "slope, intercept, r, p, std_err = stats.linregress(x,y)"
      ],
      "metadata": {
        "id": "ESF6BPXxRoQN"
      },
      "execution_count": null,
      "outputs": []
    },
    {
      "cell_type": "code",
      "source": [
        "def sakaunc(x):\n",
        "  return slope * x + intercept"
      ],
      "metadata": {
        "id": "4cTT0q79R71i"
      },
      "execution_count": null,
      "outputs": []
    },
    {
      "cell_type": "code",
      "source": [
        "berat_badan = sakaunc(171)"
      ],
      "metadata": {
        "id": "uaj5AFUpSNhz"
      },
      "execution_count": null,
      "outputs": []
    },
    {
      "cell_type": "code",
      "source": [
        "print(berat_badan)"
      ],
      "metadata": {
        "id": "Mf3AIUm9SVBx"
      },
      "execution_count": null,
      "outputs": []
    }
  ]
}