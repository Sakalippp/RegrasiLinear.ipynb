{
  "nbformat": 4,
  "nbformat_minor": 0,
  "metadata": {
    "colab": {
      "private_outputs": true,
      "provenance": []
    },
    "kernelspec": {
      "name": "python3",
      "display_name": "Python 3"
    },
    "language_info": {
      "name": "python"
    }
  },
  "cells": [
    {
      "cell_type": "code",
      "execution_count": null,
      "metadata": {
        "id": "qcMo1EhETPWK"
      },
      "outputs": [],
      "source": [
        "import numpy as np\n",
        "import pandas as pd\n",
        "import matplotlib.pyplot as plt\n",
        "import sklearn"
      ]
    },
    {
      "cell_type": "code",
      "source": [
        "dataset = pd.read_excel('Data Penjualan.xlsx')\n",
        "x = dataset.iloc[:, :-1].values\n",
        "y = dataset.iloc[:, 1].values"
      ],
      "metadata": {
        "id": "oIlAfdQgWiQQ"
      },
      "execution_count": null,
      "outputs": []
    },
    {
      "cell_type": "code",
      "source": [
        "dataset.keys()\n"
      ],
      "metadata": {
        "id": "pUSzbfklXF1v"
      },
      "execution_count": null,
      "outputs": []
    },
    {
      "cell_type": "code",
      "source": [
        "dataset.shape"
      ],
      "metadata": {
        "id": "URR_z8BwXNRC"
      },
      "execution_count": null,
      "outputs": []
    },
    {
      "cell_type": "code",
      "source": [
        "dataku = pd.DataFrame(dataset)\n",
        "dataku.head()"
      ],
      "metadata": {
        "id": "JfkUo097XPrm"
      },
      "execution_count": null,
      "outputs": []
    },
    {
      "cell_type": "code",
      "source": [
        "from sklearn.model_selection import train_test_split\n",
        "x_train, x_test, y_train, y_test = train_test_split(x,y,test_size = 0.2, random_state=0)"
      ],
      "metadata": {
        "id": "oT_IQSK8Xyf0"
      },
      "execution_count": null,
      "outputs": []
    },
    {
      "cell_type": "code",
      "source": [
        "from sklearn.linear_model import LinearRegression\n",
        "regressor = LinearRegression()\n",
        "regressor.fit(x_train, y_train)"
      ],
      "metadata": {
        "id": "-qS34N5DYjWu"
      },
      "execution_count": null,
      "outputs": []
    },
    {
      "cell_type": "code",
      "source": [
        "y_pred = regressor.predict(x_test)"
      ],
      "metadata": {
        "id": "E_Xmgn8zY-Wg"
      },
      "execution_count": null,
      "outputs": []
    },
    {
      "cell_type": "code",
      "source": [
        "plt.scatter(dataku.BiayaProduksi, dataku.NilaiPenjualan)\n",
        "plt.xlabel(\"Biaya Produksi\")\n",
        "plt.ylabel(\"Nilai penjualan\")\n",
        "plt.title(\"Grafik Biaya Produksi vs Nilai Penjualan\")\n",
        "plt.show"
      ],
      "metadata": {
        "id": "gkrIBbHhZD9J"
      },
      "execution_count": null,
      "outputs": []
    },
    {
      "cell_type": "code",
      "source": [
        "plt.figure(figsize=(10,8))\n",
        "plt.scatter(x_train, y_train, color = 'blue')\n",
        "plt.plot(x_train, regressor.predict(x_train),color = 'red')\n",
        "plt.title('Biaya Produksi terhadap Penjualan (Training Set)')\n",
        "plt.xlabel('Biaya Produksi')\n",
        "plt.ylabel('Penjualan')\n",
        "plt.show()"
      ],
      "metadata": {
        "id": "ViqZzLBjZnZ_"
      },
      "execution_count": null,
      "outputs": []
    },
    {
      "cell_type": "code",
      "source": [
        "plt.figure(figsize=(10,8))\n",
        "plt.scatter(x_test, y_test, color = 'blue')\n",
        "plt.plot(x_test, regressor.predict(x_test), color = 'red')\n",
        "plt.title('Biaya Produksi terhadap Penjualan (Test Set)')\n",
        "plt.xlabel('Biaya Produksi')\n",
        "plt.ylabel('Penjualan')\n",
        "plt.show()"
      ],
      "metadata": {
        "id": "-DldmrrtaNk5"
      },
      "execution_count": null,
      "outputs": []
    }
  ]
}